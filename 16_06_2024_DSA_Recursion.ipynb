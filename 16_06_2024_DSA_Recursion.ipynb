{
 "cells": [
  {
   "cell_type": "markdown",
   "id": "c7cdc476",
   "metadata": {},
   "source": [
    "## Recursion Problems"
   ]
  },
  {
   "cell_type": "markdown",
   "id": "87284b6b",
   "metadata": {},
   "source": [
    "#### Q.1 Can you explain the logic and working of the Tower of Hanoi algorithm by writing a Python program? How does the recursion work, and how are the movements of disks between rods accomplished?\n",
    "- Example : There are 3 rods source, destination and auxiliary. There are n disk in source rod. Your task is to move all n disk from rod source to destination using auciliary rod. Find the number of operations/steps required to achieve this goal."
   ]
  },
  {
   "cell_type": "markdown",
   "id": "ca0dde0e",
   "metadata": {},
   "source": [
    "#### Q.2 Given two strings word1 and word2, return the minimum number of operations required to convert word1 to word2.\n",
    "1. Example 1:\n",
    "- Input: word1 = \"horse\", word2 = \"ros\" ; Output: 3\n",
    "- Explanation: \n",
    "- horse -> rorse (replace 'h' with 'r')\n",
    "- rorse -> rose (remove 'r')\n",
    "- rose -> ros (remove 'e')\n",
    "\n",
    "2. Example 2:\n",
    "- Input: word1 = \"intention\", word2 = \"execution\"\n",
    "- Output: 5\n",
    "- Explanation: \n",
    "- intention -> inention (remove 't')\n",
    "- inention -> enention (replace 'i' with 'e')\n",
    "- enention -> exention (replace 'n' with 'x')\n",
    "- exention -> exection (replace 'n' with 'c')\n",
    "- exection -> execution (insert 'u')"
   ]
  },
  {
   "cell_type": "markdown",
   "id": "bc4e8a45",
   "metadata": {},
   "source": [
    "#### Q. 3 Print the max value of the array [ 13, 1, -3, 22, 5]."
   ]
  },
  {
   "cell_type": "markdown",
   "id": "590b2302",
   "metadata": {},
   "source": [
    "#### Q.4 Find the sum of the values of the array [92, 23, 15, -20, 10]."
   ]
  },
  {
   "cell_type": "markdown",
   "id": "a7a8e641",
   "metadata": {},
   "source": [
    "#### Q.5 Given a number n. Print if it is an armstrong number or not.An armstrong number is a number if the sum of every digit in that number raised to the power of total digits in that number is equal to the number. \n",
    "- Example : 153 = 1^3 + 5^3 + 3^3 = 1 + 125 + 27 = 153 hence 153 is an armstrong number. \n",
    "- Input 1 : 153 ; Output1 : Yes\n",
    "- Input 2 : 134 ; Output2 : No"
   ]
  }
 ],
 "metadata": {
  "kernelspec": {
   "display_name": "Python 3 (ipykernel)",
   "language": "python",
   "name": "python3"
  },
  "language_info": {
   "codemirror_mode": {
    "name": "ipython",
    "version": 3
   },
   "file_extension": ".py",
   "mimetype": "text/x-python",
   "name": "python",
   "nbconvert_exporter": "python",
   "pygments_lexer": "ipython3",
   "version": "3.9.12"
  }
 },
 "nbformat": 4,
 "nbformat_minor": 5
}
