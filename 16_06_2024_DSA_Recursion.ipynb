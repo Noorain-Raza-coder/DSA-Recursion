{
 "cells": [
  {
   "cell_type": "markdown",
   "id": "8f4ca77c",
   "metadata": {},
   "source": [
    "## Recursion Problems"
   ]
  },
  {
   "cell_type": "markdown",
   "id": "42aed19e",
   "metadata": {},
   "source": [
    "#### Q.1 Can you explain the logic and working of the Tower of Hanoi algorithm by writing a Python program? How does the recursion work, and how are the movements of disks between rods accomplished?\n",
    "- Example : There are 3 rods source, destination and auxiliary. There are n disk in source rod. Your task is to move all n disk from rod source to destination using auciliary rod. Find the number of operations/steps required to achieve this goal."
   ]
  },
  {
   "cell_type": "markdown",
   "id": "891dffa9",
   "metadata": {},
   "source": [
    "#### Ans 1)\n",
    "\n",
    "#### Steps:\n",
    "- Define a recursive function that takes number of disk,source,destination,auxiliary rod.\n",
    "- We know that to move a single disk from source to destination, 1 operation is required.\n",
    "- Let's say i have a magic function that move all n-1 disk from one rod to another rod.\n",
    "- Now if i take the help of this magic function then i can say :\n",
    "- 1) Move all (n-1) disk from source to auxiliary using destination.\n",
    "- 2) Then move that remained single disk from Source to destination, 1 step.\n",
    "- 3) Now move all (n-1) disk from auxiliary to Destination using auxiliary."
   ]
  },
  {
   "cell_type": "code",
   "execution_count": 1,
   "id": "22f8869b",
   "metadata": {},
   "outputs": [],
   "source": [
    "def Moves(n,s,d,a):\n",
    "    ## base condition\n",
    "    if n == 1:\n",
    "        return 1\n",
    "    \n",
    "    ## Recursive function call\n",
    "    return Moves(n-1,s,a,d) + 1 + Moves(n-1,a,d,s)"
   ]
  },
  {
   "cell_type": "code",
   "execution_count": 2,
   "id": "c1705068",
   "metadata": {},
   "outputs": [
    {
     "name": "stdout",
     "output_type": "stream",
     "text": [
      "Input values :  3 s d a\n",
      "These many operations are required :  7\n"
     ]
    }
   ],
   "source": [
    "## input value\n",
    "n = 3   # no. of disk\n",
    "s = 's'\n",
    "d = 'd'\n",
    "a = 'a'\n",
    "\n",
    "print(\"Input values : \",n,s,d,a)\n",
    "\n",
    "## calling the function\n",
    "output = Moves(n,s,d,a)\n",
    "print(\"These many operations are required : \",output)\n"
   ]
  },
  {
   "cell_type": "markdown",
   "id": "326847a9",
   "metadata": {},
   "source": [
    "#### Q.2 Given two strings word1 and word2, return the minimum number of operations required to convert word1 to word2.\n",
    "1. Example 1:\n",
    "- Input: word1 = \"horse\", word2 = \"ros\" ; Output: 3\n",
    "- Explanation: \n",
    "- horse -> rorse (replace 'h' with 'r')\n",
    "- rorse -> rose (remove 'r')\n",
    "- rose -> ros (remove 'e')\n",
    "\n",
    "2. Example 2:\n",
    "- Input: word1 = \"intention\", word2 = \"execution\"\n",
    "- Output: 5\n",
    "- Explanation: \n",
    "- intention -> inention (remove 't')\n",
    "- inention -> enention (replace 'i' with 'e')\n",
    "- enention -> exention (replace 'n' with 'x')\n",
    "- exention -> exection (replace 'n' with 'c')\n",
    "- exection -> execution (insert 'u')"
   ]
  },
  {
   "cell_type": "markdown",
   "id": "0ec72a3f",
   "metadata": {},
   "source": [
    "#### Ans 2)\n",
    "\n",
    "#### Steps:\n",
    "- Define a recursive function that takes two strings s1,s2 and their lengths n1 and n2.\n",
    "- If String s1 is empty but s2 is not then return legnth of s2 string.\n",
    "- If String s2 is empty but s1 is not then return legnth of s1 string.\n",
    "- When last character of both strings s1 and s2 are same then no operation is required and move forward with next values.\n",
    "- When last character of both strings s1 and s2 are not same then 3 possibilities are there :\n",
    "- 1) Replace : to replace any character, operations required : 1 + (StrtoStr2(s1,s2,n1-1,n2-1)\n",
    "- 2) Remove  : to remove any character, operations required : 1 + (StrtoStr2(s1,s2,n1-1,n2)\n",
    "- 3) Insert  : to insert any character, operations required : 1 + (StrtoStr2(s1,s2,n1,n2-1)\n",
    "- finally by merging all : 1 + min ((StrtoStr2(s1,s2,n1-1,n2-1) , (StrtoStr2(s1,s2,n1-1,n2) ,(StrtoStr2(s1,s2,n1,n2-1) )\n",
    "- These many operation are required to convert string1 into string2."
   ]
  },
  {
   "cell_type": "code",
   "execution_count": 6,
   "id": "78cadaa9",
   "metadata": {},
   "outputs": [],
   "source": [
    "def StrtoStr2(s1,s2,n1,n2):\n",
    "    ## base condition\n",
    "    if n1 == 0:\n",
    "        return n2\n",
    "    if n2 == 0:\n",
    "        return n1\n",
    "    \n",
    "    ## when last character is same\n",
    "    if s1[n1-1] == s2[n2-1]:\n",
    "        return StrtoStr2(s1,s2,n1-1,n2-1)\n",
    "    \n",
    "    ## when character is different, then there are 3 cases, it can be inserting,deleting, or replacing.\n",
    "    return 1 + min(StrtoStr2(s1,s2,n1-1,n2-1),    # replacing\n",
    "                   StrtoStr2(s1,s2,n1,n2-1),      # adding\n",
    "                   StrtoStr2(s1,s2,n1-1,n2))    # removing\n",
    "    "
   ]
  },
  {
   "cell_type": "code",
   "execution_count": 8,
   "id": "9985d06b",
   "metadata": {},
   "outputs": [
    {
     "name": "stdout",
     "output_type": "stream",
     "text": [
      "Input strings :  intention execution\n",
      "These many operations are required :  5\n"
     ]
    }
   ],
   "source": [
    "## input value\n",
    "word1 = \"intention\"\n",
    "word2 = \"execution\"\n",
    "n1 = len(word1)\n",
    "n2 = len(word2)\n",
    "\n",
    "print(\"Input strings : \",word1,word2)\n",
    "\n",
    "## calling the function\n",
    "output = StrtoStr2(word1,word2,n1,n2)\n",
    "print(\"These many operations are required : \",output)\n"
   ]
  },
  {
   "cell_type": "markdown",
   "id": "9f9c75b4",
   "metadata": {},
   "source": [
    "#### Q. 3 Print the max value of the array [ 13, 1, -3, 22, 5]."
   ]
  },
  {
   "cell_type": "markdown",
   "id": "29c1b40b",
   "metadata": {},
   "source": [
    "#### Ans 3)\n",
    "\n",
    "#### Steps:\n",
    "- Define a recursive function that takes an array and its starting index.\n",
    "- Concept is to compare the first element with rest of the elements of the array by calling the recursive fn for rest of the elements.\n",
    "- Repeat this recursively untill index reach to last index.\n",
    "- Then start returning values and fn will compare it recursively and return the final maximum element."
   ]
  },
  {
   "cell_type": "code",
   "execution_count": 9,
   "id": "66ef34e7",
   "metadata": {},
   "outputs": [],
   "source": [
    "def MaxValue(arr,idx):\n",
    "    ## base condition\n",
    "    if idx == len(arr)-1:\n",
    "        return arr[idx]\n",
    "    \n",
    "    ## R fn call\n",
    "    value = MaxValue(arr, idx+1)\n",
    "    \n",
    "    ## logic\n",
    "    if arr[idx] > value:\n",
    "        return arr[idx]\n",
    "    else:\n",
    "        return value"
   ]
  },
  {
   "cell_type": "code",
   "execution_count": 10,
   "id": "763c9495",
   "metadata": {},
   "outputs": [
    {
     "name": "stdout",
     "output_type": "stream",
     "text": [
      "Input array :  [13, 1, -3, 22, 5]\n",
      "Maximum element :  22\n"
     ]
    }
   ],
   "source": [
    "## input value\n",
    "arr = [ 13, 1, -3, 22, 5]\n",
    "\n",
    "print(\"Input array : \",arr)\n",
    "\n",
    "## calling the function\n",
    "output = MaxValue(arr,idx = 0)\n",
    "print(\"Maximum element : \",output)\n"
   ]
  },
  {
   "cell_type": "markdown",
   "id": "e5633cd3",
   "metadata": {},
   "source": [
    "#### Q.4 Find the sum of the values of the array [92, 23, 15, -20, 10]."
   ]
  },
  {
   "cell_type": "markdown",
   "id": "b8561469",
   "metadata": {},
   "source": [
    "#### Ans 4)\n",
    "\n",
    "#### Steps:\n",
    "- Define a recursive function that takes an array and its starting index.\n",
    "- Concept is to add the first element with rest of the elements of the array.\n",
    "- Repeat this recursively untill index reach to last index.\n",
    "- Then start returning values and fn will add it recursively and return the final sum."
   ]
  },
  {
   "cell_type": "code",
   "execution_count": 11,
   "id": "8c2ec9f1",
   "metadata": {},
   "outputs": [],
   "source": [
    "def ValueSum(arr, idx):\n",
    "    ## base condition\n",
    "    if idx == len(arr)-1:\n",
    "        return arr[idx]\n",
    "    \n",
    "    ## Recursive fn call\n",
    "    return arr[idx] + ValueSum(arr,idx+1)"
   ]
  },
  {
   "cell_type": "code",
   "execution_count": 12,
   "id": "59c6a98f",
   "metadata": {},
   "outputs": [
    {
     "name": "stdout",
     "output_type": "stream",
     "text": [
      "Input array :  [13, 1, -3, 22, 5]\n",
      "Sum of elements :  38\n"
     ]
    }
   ],
   "source": [
    "## input value\n",
    "arr2 = [ 13, 1, -3, 22, 5]\n",
    "\n",
    "print(\"Input array : \",arr2)\n",
    "\n",
    "## calling the function\n",
    "output = ValueSum(arr,idx = 0)\n",
    "print(\"Sum of elements : \",output)"
   ]
  },
  {
   "cell_type": "markdown",
   "id": "b5012a0e",
   "metadata": {},
   "source": [
    "#### Q.5 Given a number n. Print if it is an armstrong number or not.An armstrong number is a number if the sum of every digit in that number raised to the power of total digits in that number is equal to the number. \n",
    "- Example : 153 = 1^3 + 5^3 + 3^3 = 1 + 125 + 27 = 153 hence 153 is an armstrong number. \n",
    "- Input 1 : 153 ; Output1 : Yes\n",
    "- Input 2 : 134 ; Output2 : No"
   ]
  },
  {
   "cell_type": "markdown",
   "id": "ec96a724",
   "metadata": {},
   "source": [
    "#### Ans 5)\n",
    "\n",
    "#### Steps:\n",
    "- Define a recursive function that takes number and number of digits.\n",
    "- Concept is Extract the last digit , find its cube and update the number by removing last digit from it.\n",
    "- Repeat this step until number become zero.\n",
    "- Add the cubes of all digits recursively and return the answer.\n",
    "- If the answer is same as given number then number is Armstrong number else not."
   ]
  },
  {
   "cell_type": "code",
   "execution_count": 4,
   "id": "997c4b31",
   "metadata": {},
   "outputs": [],
   "source": [
    "def ArmNum(num,n):\n",
    "    ## base condition\n",
    "    if num == 0:\n",
    "        return 0\n",
    "    \n",
    "    ## logic\n",
    "    lastDigt = num%10\n",
    "    lastDigtCube = lastDigt**3\n",
    "    num = num//10\n",
    "    \n",
    "    ## Recursive fn call\n",
    "    return lastDigtCube + ArmNum(num,n)"
   ]
  },
  {
   "cell_type": "code",
   "execution_count": 7,
   "id": "9fb14b83",
   "metadata": {},
   "outputs": [
    {
     "name": "stdout",
     "output_type": "stream",
     "text": [
      "Input number :  134\n",
      "Given number is not Armstrong number.\n"
     ]
    }
   ],
   "source": [
    "## input value\n",
    "number = 134\n",
    "n = len(str(number))\n",
    "\n",
    "print(\"Input number : \",number)\n",
    "\n",
    "## calling the function\n",
    "output = ArmNum(number,n)\n",
    "if output == number:\n",
    "    print(\"Given number is Armstrong Number : \",output)\n",
    "else:\n",
    "    print(\"Given number is not Armstrong number.\")"
   ]
  }
 ],
 "metadata": {
  "kernelspec": {
   "display_name": "Python 3 (ipykernel)",
   "language": "python",
   "name": "python3"
  },
  "language_info": {
   "codemirror_mode": {
    "name": "ipython",
    "version": 3
   },
   "file_extension": ".py",
   "mimetype": "text/x-python",
   "name": "python",
   "nbconvert_exporter": "python",
   "pygments_lexer": "ipython3",
   "version": "3.9.12"
  }
 },
 "nbformat": 4,
 "nbformat_minor": 5
}
